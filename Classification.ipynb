{
 "cells": [
  {
   "cell_type": "markdown",
   "metadata": {},
   "source": [
    "# Classification"
   ]
  },
  {
   "cell_type": "code",
   "execution_count": 1,
   "metadata": {
    "collapsed": true
   },
   "outputs": [],
   "source": [
    "import pandas as pd\n",
    "import numpy as np\n",
    "from itertools import cycle\n",
    "from scipy import interp\n",
    "from time import time\n",
    "import matplotlib.pyplot as plt\n",
    "%matplotlib inline\n",
    "\n",
    "import seaborn as sns\n",
    "sns.set(style=\"whitegrid\", palette=\"deep\")\n",
    "\n",
    "from sklearn.model_selection import train_test_split\n",
    "\n",
    "from sklearn.preprocessing import MinMaxScaler\n",
    "from sklearn.preprocessing import StandardScaler\n",
    "\n",
    "from sklearn.naive_bayes import GaussianNB, BernoulliNB\n",
    "from sklearn.neighbors import KNeighborsClassifier\n",
    "from sklearn.linear_model import LogisticRegression, SGDClassifier\n",
    "from sklearn.tree import DecisionTreeClassifier\n",
    "from sklearn.ensemble import RandomForestClassifier\n",
    "from sklearn.svm import SVC, LinearSVC\n",
    "\n",
    "from sklearn.pipeline import Pipeline\n",
    "from sklearn.model_selection import learning_curve, validation_curve, cross_val_score, cross_val_predict\n",
    "from sklearn.model_selection import GridSearchCV, StratifiedKFold\n",
    "\n",
    "from sklearn.metrics import confusion_matrix, classification_report\n",
    "from sklearn.metrics import precision_score, recall_score, f1_score\n",
    "from sklearn.metrics import precision_recall_curve, average_precision_score\n",
    "from sklearn.metrics import roc_curve, auc, roc_auc_score, accuracy_score"
   ]
  },
  {
   "cell_type": "code",
   "execution_count": 2,
   "metadata": {
    "collapsed": true
   },
   "outputs": [],
   "source": [
    "date_cols = ['issue_d', 'earliest_cr_line']\n",
    "data = pd.read_csv('data/df_class.csv', parse_dates=date_cols, infer_datetime_format=True)\n",
    "data = data.reset_index(drop=True)"
   ]
  },
  {
   "cell_type": "code",
   "execution_count": 3,
   "metadata": {
    "collapsed": true
   },
   "outputs": [],
   "source": [
    "cat_vars = ['home_owner', 'term', 'employ_length', 'verification_status', 'loan_purpose']\n",
    "data = pd.get_dummies(data, columns=cat_vars, drop_first=True)"
   ]
  },
  {
   "cell_type": "code",
   "execution_count": 4,
   "metadata": {
    "collapsed": true
   },
   "outputs": [],
   "source": [
    "#drop object variables not needed and date variables\n",
    "data = data.drop(['issue_d', 'earliest_cr_line', 'zip_code', 'addr_state'], axis=1)"
   ]
  },
  {
   "cell_type": "code",
   "execution_count": 5,
   "metadata": {},
   "outputs": [
    {
     "name": "stdout",
     "output_type": "stream",
     "text": [
      "<class 'pandas.core.frame.DataFrame'>\n",
      "RangeIndex: 441463 entries, 0 to 441462\n",
      "Data columns (total 29 columns):\n",
      "Unnamed: 0                             441463 non-null int64\n",
      "loan_amnt                              441463 non-null float64\n",
      "annual_inc                             441463 non-null float64\n",
      "dti                                    441463 non-null float64\n",
      "delinq_2yrs                            441463 non-null float64\n",
      "inq_last_6mths                         441463 non-null float64\n",
      "mths_since_last_delinq                 441463 non-null float64\n",
      "open_acc                               441463 non-null float64\n",
      "pub_rec                                441463 non-null float64\n",
      "revol_bal                              441463 non-null float64\n",
      "acc_open_past_24mths                   441463 non-null float64\n",
      "bc_util                                441463 non-null float64\n",
      "tot_hi_cred_lim                        441463 non-null float64\n",
      "total_bal_ex_mort                      441463 non-null float64\n",
      "default                                441463 non-null int64\n",
      "credit_life_mths                       441463 non-null float64\n",
      "home_owner_OTHER                       441463 non-null uint8\n",
      "home_owner_OWN                         441463 non-null uint8\n",
      "home_owner_RENT                        441463 non-null uint8\n",
      "term_ 60 months                        441463 non-null uint8\n",
      "employ_length_<= 2yr                   441463 non-null uint8\n",
      "employ_length_>= 8yrs                  441463 non-null uint8\n",
      "verification_status_Source Verified    441463 non-null uint8\n",
      "verification_status_Verified           441463 non-null uint8\n",
      "loan_purpose_debt_payoff               441463 non-null uint8\n",
      "loan_purpose_house                     441463 non-null uint8\n",
      "loan_purpose_large_purchase            441463 non-null uint8\n",
      "loan_purpose_medical                   441463 non-null uint8\n",
      "loan_purpose_other                     441463 non-null uint8\n",
      "dtypes: float64(14), int64(2), uint8(13)\n",
      "memory usage: 59.4 MB\n"
     ]
    }
   ],
   "source": [
    "data.info()"
   ]
  },
  {
   "cell_type": "code",
   "execution_count": 6,
   "metadata": {},
   "outputs": [
    {
     "name": "stdout",
     "output_type": "stream",
     "text": [
      "Total % of loans that defaulted:  0.7979649483648686\n",
      "Total % of loans that didn't default:  0.20203505163513136\n"
     ]
    }
   ],
   "source": [
    "total = len(data.index)\n",
    "def_cnt = len(data[data['default'] == 1])\n",
    "\n",
    "def_pct = def_cnt / (total)\n",
    "\n",
    "print('Total % of loans that defaulted: ', def_pct)\n",
    "print(\"Total % of loans that didn't default: \", 1 - def_pct)\n",
    "\n",
    "#HEAVILY SKEWED DATASET, accuracy performance metric will NOT work well"
   ]
  },
  {
   "cell_type": "code",
   "execution_count": 7,
   "metadata": {
    "collapsed": true
   },
   "outputs": [],
   "source": [
    "#create y vector and X matrix\n",
    "target_col = 'default'\n",
    "\n",
    "X = data.drop('default', axis=1)\n",
    "y = data[target_col]"
   ]
  },
  {
   "cell_type": "markdown",
   "metadata": {},
   "source": [
    "# Split and Scale"
   ]
  },
  {
   "cell_type": "code",
   "execution_count": 8,
   "metadata": {
    "collapsed": true
   },
   "outputs": [],
   "source": [
    "from sklearn.model_selection import train_test_split\n",
    "\n",
    "X_train, X_test, y_train, y_test = train_test_split(X, y, test_size = 0.25)"
   ]
  },
  {
   "cell_type": "code",
   "execution_count": 9,
   "metadata": {
    "collapsed": true
   },
   "outputs": [],
   "source": [
    "cont_vars = ['loan_amnt', 'annual_inc', 'dti', 'delinq_2yrs', 'inq_last_6mths', 'mths_since_last_delinq',\n",
    "             'open_acc', 'pub_rec', 'revol_bal', 'credit_life_mths',\n",
    "             'total_bal_ex_mort', 'tot_hi_cred_lim']\n",
    "\n",
    "X_train_cont = X_train[cont_vars]\n",
    "X_test_cont = X_test[cont_vars]\n",
    "\n",
    "X_train_cat = X_train.drop(cont_vars, axis=1)\n",
    "X_test_cat = X_test.drop(cont_vars, axis=1)"
   ]
  },
  {
   "cell_type": "code",
   "execution_count": 10,
   "metadata": {
    "collapsed": true
   },
   "outputs": [],
   "source": [
    "from sklearn.preprocessing import MinMaxScaler\n",
    "from sklearn.preprocessing import StandardScaler\n",
    "\n",
    "#generate the needed scaled sets\n",
    "mms = MinMaxScaler()\n",
    "stdsc = StandardScaler()\n",
    "\n",
    "#create normalized X matrices\n",
    "X_train_cont_norm = mms.fit_transform(X_train_cont)\n",
    "X_test_cont_norm = mms.transform(X_test_cont)\n",
    "\n",
    "#create standardized X matrices\n",
    "X_train_cont_std = stdsc.fit_transform(X_train_cont)\n",
    "X_test_cont_std = stdsc.transform(X_test_cont)"
   ]
  },
  {
   "cell_type": "code",
   "execution_count": 11,
   "metadata": {
    "collapsed": true
   },
   "outputs": [],
   "source": [
    "X_train_cont_norm = pd.DataFrame(X_train_cont_norm, columns=X_train_cont.columns)\n",
    "X_test_cont_norm = pd.DataFrame(X_test_cont_norm, columns=X_test_cont.columns)\n",
    "\n",
    "X_train_cont_std = pd.DataFrame(X_train_cont_std, columns=X_train_cont.columns)\n",
    "X_test_cont_std = pd.DataFrame(X_test_cont_std, columns=X_test_cont.columns)"
   ]
  },
  {
   "cell_type": "code",
   "execution_count": 12,
   "metadata": {
    "collapsed": true
   },
   "outputs": [],
   "source": [
    "#reset index \n",
    "X_train_cat = X_train_cat.reset_index(drop=True)\n",
    "X_test_cat = X_test_cat.reset_index(drop=True)"
   ]
  },
  {
   "cell_type": "code",
   "execution_count": 13,
   "metadata": {
    "collapsed": true
   },
   "outputs": [],
   "source": [
    "#concat new scaled matrices\n",
    "X_train_norm = pd.concat([X_train_cont_norm, X_train_cat], axis=1)\n",
    "X_test_norm = pd.concat([X_test_cont_norm, X_test_cat], axis=1)\n",
    "\n",
    "X_train_std = pd.concat([X_train_cont_std, X_train_cat], axis=1)\n",
    "X_test_std = pd.concat([X_test_cont_std, X_test_cat], axis=1)"
   ]
  },
  {
   "cell_type": "markdown",
   "metadata": {},
   "source": [
    "# Naive Bayes"
   ]
  },
  {
   "cell_type": "code",
   "execution_count": 18,
   "metadata": {},
   "outputs": [
    {
     "name": "stdout",
     "output_type": "stream",
     "text": [
      "Train accuracy:  0.797488349336\n",
      "Test accuracy:  0.797066125437\n"
     ]
    }
   ],
   "source": [
    "from sklearn.naive_bayes import GaussianNB\n",
    "\n",
    "nb = GaussianNB()\n",
    "nb.fit(X_train, y_train)\n",
    "\n",
    "train_acc = nb.score(X_train, y_train)\n",
    "test_acc = nb.score(X_test, y_test)\n",
    "\n",
    "print('Train accuracy: ', train_acc)\n",
    "print('Test accuracy: ', test_acc)"
   ]
  },
  {
   "cell_type": "code",
   "execution_count": 46,
   "metadata": {
    "collapsed": true
   },
   "outputs": [],
   "source": [
    "from sklearn.metrics import precision_score, recall_score, average_precision_score, precision_recall_curve, f1_score\n",
    "from sklearn.model_selection import cross_val_score, cross_val_predict"
   ]
  },
  {
   "cell_type": "code",
   "execution_count": 47,
   "metadata": {},
   "outputs": [
    {
     "name": "stdout",
     "output_type": "stream",
     "text": [
      "0.797234647053\n"
     ]
    }
   ],
   "source": [
    "cv_scores = cross_val_score(nb, X_train, y_train, cv=10, scoring='accuracy')\n",
    "print(np.mean(cv_scores))"
   ]
  },
  {
   "cell_type": "code",
   "execution_count": 48,
   "metadata": {
    "collapsed": true
   },
   "outputs": [],
   "source": [
    "y_train_pred = cross_val_predict(nb, X_train, y_train, cv=10)"
   ]
  },
  {
   "cell_type": "code",
   "execution_count": 49,
   "metadata": {},
   "outputs": [
    {
     "data": {
      "text/plain": [
       "array([[  1681,  65262],\n",
       "       [  1873, 262281]])"
      ]
     },
     "execution_count": 49,
     "metadata": {},
     "output_type": "execute_result"
    }
   ],
   "source": [
    "from sklearn.metrics import confusion_matrix\n",
    "confusion_matrix(y_train, y_train_pred)"
   ]
  },
  {
   "cell_type": "code",
   "execution_count": 50,
   "metadata": {},
   "outputs": [
    {
     "data": {
      "text/plain": [
       "0.80075287824804686"
      ]
     },
     "execution_count": 50,
     "metadata": {},
     "output_type": "execute_result"
    }
   ],
   "source": [
    "precision_score(y_train, y_train_pred)"
   ]
  },
  {
   "cell_type": "code",
   "execution_count": 51,
   "metadata": {},
   "outputs": [
    {
     "data": {
      "text/plain": [
       "0.99290943919077512"
      ]
     },
     "execution_count": 51,
     "metadata": {},
     "output_type": "execute_result"
    }
   ],
   "source": [
    "recall_score(y_train, y_train_pred)"
   ]
  },
  {
   "cell_type": "code",
   "execution_count": 14,
   "metadata": {
    "collapsed": true
   },
   "outputs": [],
   "source": [
    "def prec_recal_score(model, X, y):\n",
    "    cross_val_score(model, X, y, cv=5, scoring = 'accuracy')\n",
    "    y_train_pred = cross_val_predict(model, X, y, cv=5)\n",
    "    prec_score = precision_score(y, y_train_pred)\n",
    "    recal_score = recall_score(y, y_train_pred)\n",
    "    \n",
    "    print('Model: ', model)\n",
    "    print('Precision Score: ', prec_score)\n",
    "    print('Recall Score', recal_score, '\\n')\n",
    "    print(classification_report(y_train, y_train_pred))\n",
    "    print(confusion_matrix(y_train, y_train_pred))"
   ]
  },
  {
   "cell_type": "code",
   "execution_count": 56,
   "metadata": {},
   "outputs": [
    {
     "name": "stdout",
     "output_type": "stream",
     "text": [
      "Train accuracy:  0.797204444619\n",
      "Test accuracy:  0.797999383868\n",
      "Model:  GaussianNB(priors=None)\n",
      "Precision Score:  0.800755322981\n",
      "Recall Score 0.992909439191 \n",
      "\n",
      "             precision    recall  f1-score   support\n",
      "\n",
      "          0       0.47      0.03      0.05     66943\n",
      "          1       0.80      0.99      0.89    264154\n",
      "\n",
      "avg / total       0.73      0.80      0.72    331097\n",
      "\n",
      "[[  1682  65261]\n",
      " [  1873 262281]]\n"
     ]
    }
   ],
   "source": [
    "nb = GaussianNB()\n",
    "nb.fit(X_train, y_train)\n",
    "\n",
    "train_acc = nb.score(X_train, y_train)\n",
    "test_acc = nb.score(X_test, y_test)\n",
    "\n",
    "print('Train accuracy: ', train_acc)\n",
    "print('Test accuracy: ', test_acc)\n",
    "prec_recal_score(nb, X_train, y_train)"
   ]
  },
  {
   "cell_type": "markdown",
   "metadata": {},
   "source": [
    "# KNN"
   ]
  },
  {
   "cell_type": "code",
   "execution_count": 215,
   "metadata": {
    "collapsed": true
   },
   "outputs": [],
   "source": [
    "#knn\n",
    "from sklearn.neighbors import KNeighborsClassifier"
   ]
  },
  {
   "cell_type": "code",
   "execution_count": 216,
   "metadata": {},
   "outputs": [
    {
     "name": "stdout",
     "output_type": "stream",
     "text": [
      "KNN, no scaled features\n",
      "Train accuracy:  0.835796819586\n",
      "Test accuracy:  0.790198029996\n"
     ]
    }
   ],
   "source": [
    "#knn\n",
    "from sklearn.neighbors import KNeighborsClassifier\n",
    "\n",
    "#fit KNN model\n",
    "knn = KNeighborsClassifier()\n",
    "knn.fit(X_train, y_train)\n",
    "\n",
    "train_acc = knn.score(X_train, y_train)\n",
    "test_acc = knn.score(X_test, y_test)\n",
    "\n",
    "print('KNN, no scaled features')\n",
    "print('Train accuracy: ', train_acc)\n",
    "print('Test accuracy: ', test_acc)\n",
    "prec_recal_score(knn, X_train, y_train)"
   ]
  },
  {
   "cell_type": "code",
   "execution_count": 217,
   "metadata": {},
   "outputs": [
    {
     "name": "stdout",
     "output_type": "stream",
     "text": [
      "KNN, minmax scaled features\n",
      "Train accuracy:  0.839137398467\n",
      "Test accuracy:  0.792754916429\n"
     ]
    }
   ],
   "source": [
    "#knn\n",
    "from sklearn.neighbors import KNeighborsClassifier\n",
    "\n",
    "#fit KNN model\n",
    "knn = KNeighborsClassifier()\n",
    "knn.fit(X_train_norm, y_train)\n",
    "\n",
    "train_acc = knn.score(X_train_norm, y_train)\n",
    "test_acc = knn.score(X_test_norm, y_test)\n",
    "\n",
    "print('KNN, minmax scaled features')\n",
    "print('Train accuracy: ', train_acc)\n",
    "print('Test accuracy: ', test_acc)\n",
    "prec_recal_score(knn, X_train, y_train)"
   ]
  },
  {
   "cell_type": "code",
   "execution_count": 218,
   "metadata": {},
   "outputs": [
    {
     "name": "stdout",
     "output_type": "stream",
     "text": [
      "KNN, standard scaled features\n",
      "Train accuracy:  0.839886740648\n",
      "Test accuracy:  0.794539588839\n"
     ]
    }
   ],
   "source": [
    "#knn\n",
    "from sklearn.neighbors import KNeighborsClassifier\n",
    "\n",
    "#fit KNN model\n",
    "knn = KNeighborsClassifier()\n",
    "knn.fit(X_train_std, y_train)\n",
    "\n",
    "train_acc = knn.score(X_train_std, y_train)\n",
    "test_acc = knn.score(X_test_std, y_test)\n",
    "\n",
    "print('KNN, standard scaled features')\n",
    "print('Train accuracy: ', train_acc)\n",
    "print('Test accuracy: ', test_acc)\n",
    "prec_recal_score(knn, X_train, y_train)"
   ]
  },
  {
   "cell_type": "markdown",
   "metadata": {},
   "source": [
    "# Logistic Regression"
   ]
  },
  {
   "cell_type": "code",
   "execution_count": 19,
   "metadata": {},
   "outputs": [
    {
     "name": "stdout",
     "output_type": "stream",
     "text": [
      "Logistic Regression\n",
      "Train accuracy:  0.797932327988\n",
      "Test accuracy:  0.797917837015\n",
      "Model:  LogisticRegression(C=1.0, class_weight=None, dual=False, fit_intercept=True,\n",
      "          intercept_scaling=1, max_iter=100, multi_class='ovr', n_jobs=1,\n",
      "          penalty='l2', random_state=None, solver='liblinear', tol=0.0001,\n",
      "          verbose=0, warm_start=False)\n",
      "Precision Score:  0.797976899564\n",
      "Recall Score 0.999935656755 \n",
      "\n",
      "             precision    recall  f1-score   support\n",
      "\n",
      "          0       0.19      0.00      0.00     66889\n",
      "          1       0.80      1.00      0.89    264208\n",
      "\n",
      "avg / total       0.68      0.80      0.71    331097\n",
      "\n",
      "[[     4  66885]\n",
      " [    17 264191]]\n"
     ]
    }
   ],
   "source": [
    "from sklearn.linear_model import LogisticRegression\n",
    "\n",
    "lr = LogisticRegression()\n",
    "lr.fit(X_train, y_train)\n",
    "\n",
    "train_acc = lr.score(X_train, y_train)\n",
    "test_acc = lr.score(X_test, y_test)\n",
    "\n",
    "print('Logistic Regression')\n",
    "print('Train accuracy: ', train_acc)\n",
    "print('Test accuracy: ', test_acc)\n",
    "prec_recal_score(lr, X_train, y_train)"
   ]
  },
  {
   "cell_type": "markdown",
   "metadata": {},
   "source": [
    "# Decision Tree"
   ]
  },
  {
   "cell_type": "code",
   "execution_count": 57,
   "metadata": {},
   "outputs": [
    {
     "name": "stdout",
     "output_type": "stream",
     "text": [
      "Decision Tree, no scaled features\n",
      "Train accuracy:  1.0\n",
      "Test accuracy:  0.700414982875\n",
      "Model:  DecisionTreeClassifier(class_weight=None, criterion='gini', max_depth=None,\n",
      "            max_features=None, max_leaf_nodes=None,\n",
      "            min_impurity_split=1e-07, min_samples_leaf=1,\n",
      "            min_samples_split=2, min_weight_fraction_leaf=0.0,\n",
      "            presort=False, random_state=0, splitter='best')\n",
      "Precision Score:  0.818697878679\n",
      "Recall Score 0.803129992353 \n",
      "\n",
      "             precision    recall  f1-score   support\n",
      "\n",
      "          0       0.28      0.30      0.29     66943\n",
      "          1       0.82      0.80      0.81    264154\n",
      "\n",
      "avg / total       0.71      0.70      0.71    331097\n",
      "\n",
      "[[ 19962  46981]\n",
      " [ 52004 212150]]\n"
     ]
    }
   ],
   "source": [
    "from sklearn.tree import DecisionTreeClassifier\n",
    "\n",
    "#make classifier object\n",
    "dtc = DecisionTreeClassifier(random_state=0)\n",
    "\n",
    "#fit model\n",
    "dtc.fit(X_train, y_train)\n",
    "\n",
    "#report training and test errors\n",
    "train_acc = dtc.score(X_train, y_train)\n",
    "test_acc = dtc.score(X_test, y_test)\n",
    "\n",
    "print('Decision Tree')\n",
    "print('Train accuracy: ', train_acc)\n",
    "print('Test accuracy: ', test_acc)\n",
    "prec_recal_score(dtc, X_train, y_train)"
   ]
  },
  {
   "cell_type": "code",
   "execution_count": 58,
   "metadata": {},
   "outputs": [
    {
     "data": {
      "text/html": [
       "<div>\n",
       "<style>\n",
       "    .dataframe thead tr:only-child th {\n",
       "        text-align: right;\n",
       "    }\n",
       "\n",
       "    .dataframe thead th {\n",
       "        text-align: left;\n",
       "    }\n",
       "\n",
       "    .dataframe tbody tr th {\n",
       "        vertical-align: top;\n",
       "    }\n",
       "</style>\n",
       "<table border=\"1\" class=\"dataframe\">\n",
       "  <thead>\n",
       "    <tr style=\"text-align: right;\">\n",
       "      <th></th>\n",
       "      <th>feature</th>\n",
       "      <th>importance</th>\n",
       "    </tr>\n",
       "  </thead>\n",
       "  <tbody>\n",
       "    <tr>\n",
       "      <th>0</th>\n",
       "      <td>Unnamed: 0</td>\n",
       "      <td>0.090760</td>\n",
       "    </tr>\n",
       "    <tr>\n",
       "      <th>1</th>\n",
       "      <td>loan_amnt</td>\n",
       "      <td>0.067838</td>\n",
       "    </tr>\n",
       "    <tr>\n",
       "      <th>2</th>\n",
       "      <td>annual_inc</td>\n",
       "      <td>0.066893</td>\n",
       "    </tr>\n",
       "    <tr>\n",
       "      <th>3</th>\n",
       "      <td>dti</td>\n",
       "      <td>0.094150</td>\n",
       "    </tr>\n",
       "    <tr>\n",
       "      <th>4</th>\n",
       "      <td>delinq_2yrs</td>\n",
       "      <td>0.006016</td>\n",
       "    </tr>\n",
       "    <tr>\n",
       "      <th>5</th>\n",
       "      <td>inq_last_6mths</td>\n",
       "      <td>0.018473</td>\n",
       "    </tr>\n",
       "    <tr>\n",
       "      <th>6</th>\n",
       "      <td>mths_since_last_delinq</td>\n",
       "      <td>0.036866</td>\n",
       "    </tr>\n",
       "    <tr>\n",
       "      <th>7</th>\n",
       "      <td>open_acc</td>\n",
       "      <td>0.047427</td>\n",
       "    </tr>\n",
       "    <tr>\n",
       "      <th>8</th>\n",
       "      <td>pub_rec</td>\n",
       "      <td>0.007051</td>\n",
       "    </tr>\n",
       "    <tr>\n",
       "      <th>9</th>\n",
       "      <td>revol_bal</td>\n",
       "      <td>0.083214</td>\n",
       "    </tr>\n",
       "    <tr>\n",
       "      <th>10</th>\n",
       "      <td>acc_open_past_24mths</td>\n",
       "      <td>0.032725</td>\n",
       "    </tr>\n",
       "    <tr>\n",
       "      <th>11</th>\n",
       "      <td>bc_util</td>\n",
       "      <td>0.084529</td>\n",
       "    </tr>\n",
       "    <tr>\n",
       "      <th>12</th>\n",
       "      <td>tot_hi_cred_lim</td>\n",
       "      <td>0.096147</td>\n",
       "    </tr>\n",
       "    <tr>\n",
       "      <th>13</th>\n",
       "      <td>total_bal_ex_mort</td>\n",
       "      <td>0.077871</td>\n",
       "    </tr>\n",
       "    <tr>\n",
       "      <th>14</th>\n",
       "      <td>credit_life_mths</td>\n",
       "      <td>0.085421</td>\n",
       "    </tr>\n",
       "    <tr>\n",
       "      <th>15</th>\n",
       "      <td>home_owner_OTHER</td>\n",
       "      <td>0.000059</td>\n",
       "    </tr>\n",
       "    <tr>\n",
       "      <th>16</th>\n",
       "      <td>home_owner_OWN</td>\n",
       "      <td>0.005756</td>\n",
       "    </tr>\n",
       "    <tr>\n",
       "      <th>17</th>\n",
       "      <td>home_owner_RENT</td>\n",
       "      <td>0.007184</td>\n",
       "    </tr>\n",
       "    <tr>\n",
       "      <th>18</th>\n",
       "      <td>term_ 60 months</td>\n",
       "      <td>0.043697</td>\n",
       "    </tr>\n",
       "    <tr>\n",
       "      <th>19</th>\n",
       "      <td>employ_length_&lt;= 2yr</td>\n",
       "      <td>0.007658</td>\n",
       "    </tr>\n",
       "    <tr>\n",
       "      <th>20</th>\n",
       "      <td>employ_length_&gt;= 8yrs</td>\n",
       "      <td>0.008480</td>\n",
       "    </tr>\n",
       "    <tr>\n",
       "      <th>21</th>\n",
       "      <td>verification_status_Source Verified</td>\n",
       "      <td>0.007159</td>\n",
       "    </tr>\n",
       "    <tr>\n",
       "      <th>22</th>\n",
       "      <td>verification_status_Verified</td>\n",
       "      <td>0.007407</td>\n",
       "    </tr>\n",
       "    <tr>\n",
       "      <th>23</th>\n",
       "      <td>loan_purpose_debt_payoff</td>\n",
       "      <td>0.005418</td>\n",
       "    </tr>\n",
       "    <tr>\n",
       "      <th>24</th>\n",
       "      <td>loan_purpose_house</td>\n",
       "      <td>0.003531</td>\n",
       "    </tr>\n",
       "    <tr>\n",
       "      <th>25</th>\n",
       "      <td>loan_purpose_large_purchase</td>\n",
       "      <td>0.002363</td>\n",
       "    </tr>\n",
       "    <tr>\n",
       "      <th>26</th>\n",
       "      <td>loan_purpose_medical</td>\n",
       "      <td>0.001838</td>\n",
       "    </tr>\n",
       "    <tr>\n",
       "      <th>27</th>\n",
       "      <td>loan_purpose_other</td>\n",
       "      <td>0.004067</td>\n",
       "    </tr>\n",
       "  </tbody>\n",
       "</table>\n",
       "</div>"
      ],
      "text/plain": [
       "                                feature  importance\n",
       "0                            Unnamed: 0    0.090760\n",
       "1                             loan_amnt    0.067838\n",
       "2                            annual_inc    0.066893\n",
       "3                                   dti    0.094150\n",
       "4                           delinq_2yrs    0.006016\n",
       "5                        inq_last_6mths    0.018473\n",
       "6                mths_since_last_delinq    0.036866\n",
       "7                              open_acc    0.047427\n",
       "8                               pub_rec    0.007051\n",
       "9                             revol_bal    0.083214\n",
       "10                 acc_open_past_24mths    0.032725\n",
       "11                              bc_util    0.084529\n",
       "12                      tot_hi_cred_lim    0.096147\n",
       "13                    total_bal_ex_mort    0.077871\n",
       "14                     credit_life_mths    0.085421\n",
       "15                     home_owner_OTHER    0.000059\n",
       "16                       home_owner_OWN    0.005756\n",
       "17                      home_owner_RENT    0.007184\n",
       "18                      term_ 60 months    0.043697\n",
       "19                 employ_length_<= 2yr    0.007658\n",
       "20                employ_length_>= 8yrs    0.008480\n",
       "21  verification_status_Source Verified    0.007159\n",
       "22         verification_status_Verified    0.007407\n",
       "23             loan_purpose_debt_payoff    0.005418\n",
       "24                   loan_purpose_house    0.003531\n",
       "25          loan_purpose_large_purchase    0.002363\n",
       "26                 loan_purpose_medical    0.001838\n",
       "27                   loan_purpose_other    0.004067"
      ]
     },
     "execution_count": 58,
     "metadata": {},
     "output_type": "execute_result"
    }
   ],
   "source": [
    "#print feature importances\n",
    "pd.DataFrame({'feature': X_train.columns, 'importance': dtc.feature_importances_})"
   ]
  },
  {
   "cell_type": "code",
   "execution_count": 61,
   "metadata": {
    "collapsed": true
   },
   "outputs": [],
   "source": [
    "key_feats = ['loan_amnt', 'annual_inc', 'dti', 'revol_bal', 'credit_life_mths', 'open_acc','default',\n",
    "             'bc_util', 'tot_hi_cred_lim', 'total_bal_ex_mort']\n",
    "\n",
    "data_key = data[key_feats]"
   ]
  },
  {
   "cell_type": "code",
   "execution_count": 62,
   "metadata": {
    "collapsed": true
   },
   "outputs": [],
   "source": [
    "#create y vector and X matrix from new key features data set\n",
    "target_col = 'default'\n",
    "\n",
    "X_key = data_key.drop('default', axis=1)\n",
    "y_key = data_key[target_col]"
   ]
  },
  {
   "cell_type": "code",
   "execution_count": 63,
   "metadata": {
    "collapsed": true
   },
   "outputs": [],
   "source": [
    "from sklearn.model_selection import train_test_split\n",
    "\n",
    "X_train_tree, X_test_tree, y_train_tree, y_test_tree = train_test_split(X_key, y_key, test_size = 0.25)"
   ]
  },
  {
   "cell_type": "code",
   "execution_count": 65,
   "metadata": {},
   "outputs": [
    {
     "name": "stdout",
     "output_type": "stream",
     "text": [
      "Decision Tree, no scaled features\n",
      "Train accuracy:  1.0\n",
      "Test accuracy:  0.688182954896\n",
      "Model:  DecisionTreeClassifier(class_weight=None, criterion='gini', max_depth=None,\n",
      "            max_features=None, max_leaf_nodes=None,\n",
      "            min_impurity_split=1e-07, min_samples_leaf=1,\n",
      "            min_samples_split=2, min_weight_fraction_leaf=0.0,\n",
      "            presort=False, random_state=0, splitter='best')\n",
      "Precision Score:  0.818697878679\n",
      "Recall Score 0.803129992353 \n",
      "\n",
      "             precision    recall  f1-score   support\n",
      "\n",
      "          0       0.28      0.30      0.29     66943\n",
      "          1       0.82      0.80      0.81    264154\n",
      "\n",
      "avg / total       0.71      0.70      0.71    331097\n",
      "\n",
      "[[ 19962  46981]\n",
      " [ 52004 212150]]\n"
     ]
    }
   ],
   "source": [
    "#fit model\n",
    "dtc.fit(X_train_tree, y_train_tree)\n",
    "\n",
    "#report training and test errors\n",
    "train_acc = dtc.score(X_train_tree, y_train_tree)\n",
    "test_acc = dtc.score(X_test_tree, y_test_tree)\n",
    "\n",
    "print('Decision Tree, no scaled features')\n",
    "print('Train accuracy: ', train_acc)\n",
    "print('Test accuracy: ', test_acc)\n",
    "prec_recal_score(dtc, X_train, y_train)"
   ]
  },
  {
   "cell_type": "markdown",
   "metadata": {},
   "source": [
    "# Random Forest"
   ]
  },
  {
   "cell_type": "code",
   "execution_count": 67,
   "metadata": {},
   "outputs": [
    {
     "name": "stdout",
     "output_type": "stream",
     "text": [
      "Random Forest, no feature scaling\n",
      "Train accuracy:  0.99185435084\n",
      "Test accuracy:  0.775465270101\n",
      "Model:  RandomForestClassifier(bootstrap=True, class_weight=None, criterion='gini',\n",
      "            max_depth=None, max_features='auto', max_leaf_nodes=None,\n",
      "            min_impurity_split=1e-07, min_samples_leaf=1,\n",
      "            min_samples_split=2, min_weight_fraction_leaf=0.0,\n",
      "            n_estimators=10, n_jobs=1, oob_score=False, random_state=0,\n",
      "            verbose=0, warm_start=False)\n",
      "Precision Score:  0.820349327309\n",
      "Recall Score 0.921019556774 \n",
      "\n",
      "             precision    recall  f1-score   support\n",
      "\n",
      "          0       0.40      0.20      0.27     66943\n",
      "          1       0.82      0.92      0.87    264154\n",
      "\n",
      "avg / total       0.73      0.78      0.75    331097\n",
      "\n",
      "[[ 13664  53279]\n",
      " [ 20863 243291]]\n"
     ]
    }
   ],
   "source": [
    "from sklearn.ensemble import RandomForestClassifier\n",
    "#fit a Random Forest\n",
    "rf = RandomForestClassifier(random_state=0)\n",
    "\n",
    "rf.fit(X_train, y_train)\n",
    "\n",
    "train_acc = rf.score(X_train, y_train)\n",
    "test_acc = rf.score(X_test, y_test)\n",
    "\n",
    "print('Random Forest, no feature scaling')\n",
    "print('Train accuracy: ', train_acc)\n",
    "print('Test accuracy: ', test_acc)\n",
    "prec_recal_score(rf, X_train, y_train)"
   ]
  },
  {
   "cell_type": "code",
   "execution_count": 68,
   "metadata": {},
   "outputs": [
    {
     "data": {
      "text/html": [
       "<div>\n",
       "<style>\n",
       "    .dataframe thead tr:only-child th {\n",
       "        text-align: right;\n",
       "    }\n",
       "\n",
       "    .dataframe thead th {\n",
       "        text-align: left;\n",
       "    }\n",
       "\n",
       "    .dataframe tbody tr th {\n",
       "        vertical-align: top;\n",
       "    }\n",
       "</style>\n",
       "<table border=\"1\" class=\"dataframe\">\n",
       "  <thead>\n",
       "    <tr style=\"text-align: right;\">\n",
       "      <th></th>\n",
       "      <th>feature</th>\n",
       "      <th>importance</th>\n",
       "    </tr>\n",
       "  </thead>\n",
       "  <tbody>\n",
       "    <tr>\n",
       "      <th>0</th>\n",
       "      <td>Unnamed: 0</td>\n",
       "      <td>0.082776</td>\n",
       "    </tr>\n",
       "    <tr>\n",
       "      <th>1</th>\n",
       "      <td>loan_amnt</td>\n",
       "      <td>0.069000</td>\n",
       "    </tr>\n",
       "    <tr>\n",
       "      <th>2</th>\n",
       "      <td>annual_inc</td>\n",
       "      <td>0.072174</td>\n",
       "    </tr>\n",
       "    <tr>\n",
       "      <th>3</th>\n",
       "      <td>dti</td>\n",
       "      <td>0.087937</td>\n",
       "    </tr>\n",
       "    <tr>\n",
       "      <th>4</th>\n",
       "      <td>delinq_2yrs</td>\n",
       "      <td>0.007471</td>\n",
       "    </tr>\n",
       "    <tr>\n",
       "      <th>5</th>\n",
       "      <td>inq_last_6mths</td>\n",
       "      <td>0.019131</td>\n",
       "    </tr>\n",
       "    <tr>\n",
       "      <th>6</th>\n",
       "      <td>mths_since_last_delinq</td>\n",
       "      <td>0.040904</td>\n",
       "    </tr>\n",
       "    <tr>\n",
       "      <th>7</th>\n",
       "      <td>open_acc</td>\n",
       "      <td>0.052306</td>\n",
       "    </tr>\n",
       "    <tr>\n",
       "      <th>8</th>\n",
       "      <td>pub_rec</td>\n",
       "      <td>0.007943</td>\n",
       "    </tr>\n",
       "    <tr>\n",
       "      <th>9</th>\n",
       "      <td>revol_bal</td>\n",
       "      <td>0.080238</td>\n",
       "    </tr>\n",
       "    <tr>\n",
       "      <th>10</th>\n",
       "      <td>acc_open_past_24mths</td>\n",
       "      <td>0.042340</td>\n",
       "    </tr>\n",
       "    <tr>\n",
       "      <th>11</th>\n",
       "      <td>bc_util</td>\n",
       "      <td>0.083683</td>\n",
       "    </tr>\n",
       "    <tr>\n",
       "      <th>12</th>\n",
       "      <td>tot_hi_cred_lim</td>\n",
       "      <td>0.086855</td>\n",
       "    </tr>\n",
       "    <tr>\n",
       "      <th>13</th>\n",
       "      <td>total_bal_ex_mort</td>\n",
       "      <td>0.077640</td>\n",
       "    </tr>\n",
       "    <tr>\n",
       "      <th>14</th>\n",
       "      <td>credit_life_mths</td>\n",
       "      <td>0.079103</td>\n",
       "    </tr>\n",
       "    <tr>\n",
       "      <th>15</th>\n",
       "      <td>home_owner_OTHER</td>\n",
       "      <td>0.000057</td>\n",
       "    </tr>\n",
       "    <tr>\n",
       "      <th>16</th>\n",
       "      <td>home_owner_OWN</td>\n",
       "      <td>0.005310</td>\n",
       "    </tr>\n",
       "    <tr>\n",
       "      <th>17</th>\n",
       "      <td>home_owner_RENT</td>\n",
       "      <td>0.007679</td>\n",
       "    </tr>\n",
       "    <tr>\n",
       "      <th>18</th>\n",
       "      <td>term_ 60 months</td>\n",
       "      <td>0.039612</td>\n",
       "    </tr>\n",
       "    <tr>\n",
       "      <th>19</th>\n",
       "      <td>employ_length_&lt;= 2yr</td>\n",
       "      <td>0.009938</td>\n",
       "    </tr>\n",
       "    <tr>\n",
       "      <th>20</th>\n",
       "      <td>employ_length_&gt;= 8yrs</td>\n",
       "      <td>0.011105</td>\n",
       "    </tr>\n",
       "    <tr>\n",
       "      <th>21</th>\n",
       "      <td>verification_status_Source Verified</td>\n",
       "      <td>0.008930</td>\n",
       "    </tr>\n",
       "    <tr>\n",
       "      <th>22</th>\n",
       "      <td>verification_status_Verified</td>\n",
       "      <td>0.008396</td>\n",
       "    </tr>\n",
       "    <tr>\n",
       "      <th>23</th>\n",
       "      <td>loan_purpose_debt_payoff</td>\n",
       "      <td>0.006824</td>\n",
       "    </tr>\n",
       "    <tr>\n",
       "      <th>24</th>\n",
       "      <td>loan_purpose_house</td>\n",
       "      <td>0.004324</td>\n",
       "    </tr>\n",
       "    <tr>\n",
       "      <th>25</th>\n",
       "      <td>loan_purpose_large_purchase</td>\n",
       "      <td>0.002252</td>\n",
       "    </tr>\n",
       "    <tr>\n",
       "      <th>26</th>\n",
       "      <td>loan_purpose_medical</td>\n",
       "      <td>0.001662</td>\n",
       "    </tr>\n",
       "    <tr>\n",
       "      <th>27</th>\n",
       "      <td>loan_purpose_other</td>\n",
       "      <td>0.004410</td>\n",
       "    </tr>\n",
       "  </tbody>\n",
       "</table>\n",
       "</div>"
      ],
      "text/plain": [
       "                                feature  importance\n",
       "0                            Unnamed: 0    0.082776\n",
       "1                             loan_amnt    0.069000\n",
       "2                            annual_inc    0.072174\n",
       "3                                   dti    0.087937\n",
       "4                           delinq_2yrs    0.007471\n",
       "5                        inq_last_6mths    0.019131\n",
       "6                mths_since_last_delinq    0.040904\n",
       "7                              open_acc    0.052306\n",
       "8                               pub_rec    0.007943\n",
       "9                             revol_bal    0.080238\n",
       "10                 acc_open_past_24mths    0.042340\n",
       "11                              bc_util    0.083683\n",
       "12                      tot_hi_cred_lim    0.086855\n",
       "13                    total_bal_ex_mort    0.077640\n",
       "14                     credit_life_mths    0.079103\n",
       "15                     home_owner_OTHER    0.000057\n",
       "16                       home_owner_OWN    0.005310\n",
       "17                      home_owner_RENT    0.007679\n",
       "18                      term_ 60 months    0.039612\n",
       "19                 employ_length_<= 2yr    0.009938\n",
       "20                employ_length_>= 8yrs    0.011105\n",
       "21  verification_status_Source Verified    0.008930\n",
       "22         verification_status_Verified    0.008396\n",
       "23             loan_purpose_debt_payoff    0.006824\n",
       "24                   loan_purpose_house    0.004324\n",
       "25          loan_purpose_large_purchase    0.002252\n",
       "26                 loan_purpose_medical    0.001662\n",
       "27                   loan_purpose_other    0.004410"
      ]
     },
     "execution_count": 68,
     "metadata": {},
     "output_type": "execute_result"
    }
   ],
   "source": [
    "#print feature importances\n",
    "pd.DataFrame({'feature': X_train.columns, 'importance': rf.feature_importances_})"
   ]
  },
  {
   "cell_type": "code",
   "execution_count": 69,
   "metadata": {},
   "outputs": [
    {
     "name": "stdout",
     "output_type": "stream",
     "text": [
      "Random Forest, no feature scaling\n",
      "Train accuracy:  0.991736560585\n",
      "Test accuracy:  0.76550749325\n",
      "Model:  RandomForestClassifier(bootstrap=True, class_weight=None, criterion='gini',\n",
      "            max_depth=None, max_features='auto', max_leaf_nodes=None,\n",
      "            min_impurity_split=1e-07, min_samples_leaf=1,\n",
      "            min_samples_split=2, min_weight_fraction_leaf=0.0,\n",
      "            n_estimators=10, n_jobs=1, oob_score=False, random_state=0,\n",
      "            verbose=0, warm_start=False)\n",
      "Precision Score:  0.810372399669\n",
      "Recall Score 0.922587482731 \n",
      "\n",
      "             precision    recall  f1-score   support\n",
      "\n",
      "          0       0.20      0.09      0.12     66943\n",
      "          1       0.80      0.91      0.85    264154\n",
      "\n",
      "avg / total       0.68      0.74      0.70    331097\n",
      "\n",
      "[[  6064  60879]\n",
      " [ 24254 239900]]\n"
     ]
    }
   ],
   "source": [
    "#fit a Random Forest with only important features\n",
    "rf = RandomForestClassifier(random_state=0)\n",
    "\n",
    "rf.fit(X_train_tree, y_train_tree)\n",
    "\n",
    "train_acc = rf.score(X_train_tree, y_train_tree)\n",
    "test_acc = rf.score(X_test_tree, y_test_tree)\n",
    "\n",
    "print('Random Forest, no feature scaling')\n",
    "print('Train accuracy: ', train_acc)\n",
    "print('Test accuracy: ', test_acc)\n",
    "prec_recal_score(rf, X_train_tree, y_train_tree)"
   ]
  },
  {
   "cell_type": "code",
   "execution_count": 70,
   "metadata": {},
   "outputs": [
    {
     "data": {
      "text/html": [
       "<div>\n",
       "<style>\n",
       "    .dataframe thead tr:only-child th {\n",
       "        text-align: right;\n",
       "    }\n",
       "\n",
       "    .dataframe thead th {\n",
       "        text-align: left;\n",
       "    }\n",
       "\n",
       "    .dataframe tbody tr th {\n",
       "        vertical-align: top;\n",
       "    }\n",
       "</style>\n",
       "<table border=\"1\" class=\"dataframe\">\n",
       "  <thead>\n",
       "    <tr style=\"text-align: right;\">\n",
       "      <th></th>\n",
       "      <th>n</th>\n",
       "      <th>test_acc</th>\n",
       "      <th>train_acc</th>\n",
       "    </tr>\n",
       "  </thead>\n",
       "  <tbody>\n",
       "    <tr>\n",
       "      <th>0</th>\n",
       "      <td>10</td>\n",
       "      <td>0.765507</td>\n",
       "      <td>0.991737</td>\n",
       "    </tr>\n",
       "    <tr>\n",
       "      <th>1</th>\n",
       "      <td>20</td>\n",
       "      <td>0.785958</td>\n",
       "      <td>0.997463</td>\n",
       "    </tr>\n",
       "    <tr>\n",
       "      <th>2</th>\n",
       "      <td>30</td>\n",
       "      <td>0.791313</td>\n",
       "      <td>0.999046</td>\n",
       "    </tr>\n",
       "    <tr>\n",
       "      <th>3</th>\n",
       "      <td>40</td>\n",
       "      <td>0.793360</td>\n",
       "      <td>0.999586</td>\n",
       "    </tr>\n",
       "    <tr>\n",
       "      <th>4</th>\n",
       "      <td>50</td>\n",
       "      <td>0.794692</td>\n",
       "      <td>0.999804</td>\n",
       "    </tr>\n",
       "    <tr>\n",
       "      <th>5</th>\n",
       "      <td>60</td>\n",
       "      <td>0.795227</td>\n",
       "      <td>0.999906</td>\n",
       "    </tr>\n",
       "    <tr>\n",
       "      <th>6</th>\n",
       "      <td>70</td>\n",
       "      <td>0.795598</td>\n",
       "      <td>0.999949</td>\n",
       "    </tr>\n",
       "    <tr>\n",
       "      <th>7</th>\n",
       "      <td>80</td>\n",
       "      <td>0.795879</td>\n",
       "      <td>0.999970</td>\n",
       "    </tr>\n",
       "    <tr>\n",
       "      <th>8</th>\n",
       "      <td>90</td>\n",
       "      <td>0.796142</td>\n",
       "      <td>0.999985</td>\n",
       "    </tr>\n",
       "    <tr>\n",
       "      <th>9</th>\n",
       "      <td>100</td>\n",
       "      <td>0.796450</td>\n",
       "      <td>0.999994</td>\n",
       "    </tr>\n",
       "  </tbody>\n",
       "</table>\n",
       "</div>"
      ],
      "text/plain": [
       "     n  test_acc  train_acc\n",
       "0   10  0.765507   0.991737\n",
       "1   20  0.785958   0.997463\n",
       "2   30  0.791313   0.999046\n",
       "3   40  0.793360   0.999586\n",
       "4   50  0.794692   0.999804\n",
       "5   60  0.795227   0.999906\n",
       "6   70  0.795598   0.999949\n",
       "7   80  0.795879   0.999970\n",
       "8   90  0.796142   0.999985\n",
       "9  100  0.796450   0.999994"
      ]
     },
     "execution_count": 70,
     "metadata": {},
     "output_type": "execute_result"
    }
   ],
   "source": [
    "n_vals = np.arange(10, 110, 10)\n",
    "\n",
    "train_acc = []\n",
    "test_acc = []\n",
    "\n",
    "for n in n_vals:\n",
    "    #make object\n",
    "    rf = RandomForestClassifier(n_estimators = n, random_state = 0)\n",
    "    \n",
    "    #fit the model\n",
    "    rf.fit(X_train_tree, y_train_tree)\n",
    "    \n",
    "    train_acc.append(rf.score(X_train_tree, y_train_tree))\n",
    "    test_acc.append(rf.score(X_test_tree, y_test_tree))\n",
    "\n",
    "pd.DataFrame({'n': n_vals, 'train_acc': train_acc, 'test_acc': test_acc})"
   ]
  },
  {
   "cell_type": "markdown",
   "metadata": {},
   "source": [
    "# Support Vector Machine"
   ]
  },
  {
   "cell_type": "code",
   "execution_count": null,
   "metadata": {
    "collapsed": true
   },
   "outputs": [],
   "source": [
    "from sklearn.preprocessing import StandardScaler\n",
    "from sklearn.svm import SVC\n",
    "from sklearn.model_selection import cross_val_score"
   ]
  },
  {
   "cell_type": "code",
   "execution_count": null,
   "metadata": {
    "collapsed": true
   },
   "outputs": [],
   "source": [
    "from sklearn.preprocessing import StandardScaler\n",
    "from sklearn.svm import SVC\n",
    "from sklearn.model_selection import cross_val_score\n",
    "from time import time\n",
    "\n",
    "start = time()\n",
    "svm = SVC(kernel = 'linear')\n",
    "score = cross_val_score(svm, X_train, y_train, cv = 10)\n",
    "print(score)\n",
    "print(score.mean())\n",
    "% time()\n",
    "#print(% (time() - start)"
   ]
  },
  {
   "cell_type": "code",
   "execution_count": null,
   "metadata": {
    "collapsed": true
   },
   "outputs": [],
   "source": [
    "svm.fit(X_train, y_train)\n",
    "\n",
    "train_acc = svm.score(X_train, y_train)\n",
    "test_acc = svm.score(X_test, y_test)\n",
    "    \n",
    "print('SVM')\n",
    "print('Train Accuracy: ', train_acc)\n",
    "print('Test Accuracy: ', test_acc)\n",
    "prec_recal_score(svm, X_train, y_train)"
   ]
  },
  {
   "cell_type": "markdown",
   "metadata": {},
   "source": [
    "# Compare Models"
   ]
  },
  {
   "cell_type": "code",
   "execution_count": 15,
   "metadata": {},
   "outputs": [
    {
     "name": "stdout",
     "output_type": "stream",
     "text": [
      "k-Nearest Neighbors\n",
      "CV accuracy: 0.936 +/- 0.001\n",
      "----------------\n",
      "Gaussian Naive Bayes\n",
      "CV accuracy: 0.993 +/- 0.001\n",
      "----------------\n",
      "Logistic Regression\n",
      "CV accuracy: 1.000 +/- 0.000\n",
      "----------------\n",
      "Decision Tree\n",
      "CV accuracy: 0.801 +/- 0.002\n",
      "----------------\n",
      "Random Forest\n",
      "CV accuracy: 0.922 +/- 0.002\n",
      "----------------\n",
      "Bernoulli Naive Bayes\n",
      "CV accuracy: 1.000 +/- 0.000\n",
      "----------------\n",
      "CPU times: user 0 ns, sys: 0 ns, total: 0 ns\n",
      "Wall time: 4.29 µs\n"
     ]
    },
    {
     "data": {
      "text/plain": [
       "()"
      ]
     },
     "execution_count": 15,
     "metadata": {},
     "output_type": "execute_result"
    }
   ],
   "source": [
    "# Classification models\n",
    "models = {\n",
    "    'k-Nearest Neighbors': KNeighborsClassifier(),\n",
    "    'Gaussian Naive Bayes': GaussianNB(),\n",
    "    'Logistic Regression': LogisticRegression(),\n",
    "    'Decision Tree': DecisionTreeClassifier(),\n",
    "    'Random Forest': RandomForestClassifier(),\n",
    "    'Bernoulli Naive Bayes': BernoulliNB()\n",
    "}\n",
    "\n",
    "results = []\n",
    "names = []\n",
    "\n",
    "for k, v in models.items():\n",
    "    cv_scores = cross_val_score(estimator=v,\n",
    "                       X=X_train,\n",
    "                       y=y_train,\n",
    "                       cv=10,\n",
    "                       n_jobs=1,\n",
    "                    scoring='recall')\n",
    "    \n",
    "    results.append(cv_scores)\n",
    "    names.append(k)\n",
    "\n",
    "    print(k)\n",
    "    print('CV accuracy: %.3f +/- %.3f' % (np.mean(cv_scores), np.std(cv_scores)))\n",
    "    print('----------------')\n",
    "\n",
    "% time()"
   ]
  },
  {
   "cell_type": "code",
   "execution_count": 16,
   "metadata": {},
   "outputs": [
    {
     "data": {
      "image/png": "[encoded data removed]",
      "text/plain": [
       "<matplotlib.figure.Figure at 0x7efcd789fc18>"
      ]
     },
     "metadata": {},
     "output_type": "display_data"
    },
    {
     "data": {
      "text/plain": [
       "<matplotlib.figure.Figure at 0x7efcd799dc50>"
      ]
     },
     "metadata": {},
     "output_type": "display_data"
    }
   ],
   "source": [
    "# Compare Algorithms\n",
    "fig = plt.figure(figsize=(12,8))\n",
    "ax = fig.add_subplot(111)\n",
    "plt.boxplot(results)\n",
    "ax.set_xticklabels(names)\n",
    "plt.title('Algorithm Comparison')\n",
    "plt.ylabel('Accuracy')\n",
    "plt.show()\n",
    "\n",
    "plt.tight_layout\n",
    "plt.savefig('figures/AlgCompare.png', bbox_inches='tight')"
   ]
  },
  {
   "cell_type": "code",
   "execution_count": 17,
   "metadata": {},
   "outputs": [
    {
     "data": {
      "image/png": "[encoded data removed]",
      "text/plain": [
       "<matplotlib.figure.Figure at 0x7efccbeb3400>"
      ]
     },
     "metadata": {},
     "output_type": "display_data"
    },
    {
     "data": {
      "text/plain": [
       "<matplotlib.figure.Figure at 0x7efccbf47f60>"
      ]
     },
     "metadata": {},
     "output_type": "display_data"
    }
   ],
   "source": [
    "# Run classifiers and plot ROC curves\n",
    "cv = StratifiedKFold(n_splits=10)\n",
    "models = {\n",
    "    'k-Nearest Neighbors': KNeighborsClassifier(),\n",
    "    'Gaussian Naive Bayes': GaussianNB(),\n",
    "    'Logistic Regression': LogisticRegression(),\n",
    "    'Decision Tree': DecisionTreeClassifier(),\n",
    "    'Random Forest': RandomForestClassifier(),\n",
    "    'Bernoulli Naive Bayes': BernoulliNB()\n",
    "}\n",
    "\n",
    "mean_tpr = 0.0\n",
    "mean_fpr = np.linspace(0, 1, 100)\n",
    "\n",
    "colors = cycle(['cyan', 'indigo', 'orange', 'seagreen', 'blue', 'salmon', 'darkorange'])\n",
    "lw=1.5  #line width\n",
    "i = 0\n",
    "for (name, model), color in zip(models.items(), colors):\n",
    "    probas_ = model.fit(X_train, y_train).predict_proba(X_test)\n",
    "    # Compute ROC curve and area the curve\n",
    "    fpr, tpr, thresholds = roc_curve(y_test, probas_[:, 1])\n",
    "    mean_tpr += interp(mean_fpr, fpr, tpr)\n",
    "    mean_tpr[0] = 0.0\n",
    "    roc_auc = auc(fpr, tpr)\n",
    "    plt.plot(fpr, tpr, lw=lw, color=color, alpha=0.6,\n",
    "             label='ROC %s (area = %0.2f)' % (name, roc_auc))\n",
    "\n",
    "    i += 1\n",
    "        \n",
    "plt.plot([0, 1], [0, 1], linestyle='--', lw=lw, color='k',\n",
    "         label='Luck')\n",
    "\n",
    "mean_tpr /= i\n",
    "mean_tpr[-1] = 1.0\n",
    "mean_auc = auc(mean_fpr, mean_tpr)\n",
    "plt.plot(mean_fpr, mean_tpr, color='g', linestyle='-.',\n",
    "         label='Mean ROC (area = %0.2f)' % mean_auc, lw=lw)\n",
    "\n",
    "plt.xlim([-0.05, 1.05])\n",
    "plt.ylim([-0.05, 1.05])\n",
    "plt.xlabel('False Positive Rate')\n",
    "plt.ylabel('True Positive Rate')\n",
    "plt.title('Receiver Operating Characteristic Curves')\n",
    "plt.legend(loc=\"lower right\")\n",
    "plt.show()\n",
    "\n",
    "plt.tight_layout\n",
    "plt.savefig('figures/ROC.png', bbox_inches='tight')"
   ]
  },
  {
   "cell_type": "markdown",
   "metadata": {},
   "source": [
    "# Tune Final Model(s)"
   ]
  },
  {
   "cell_type": "code",
   "execution_count": null,
   "metadata": {
    "collapsed": true
   },
   "outputs": [],
   "source": [
    "def prec_recal_score(model, X, y):\n",
    "    cross_val_score(model, X, y, cv=10, scoring = 'accuracy')\n",
    "    y_train_pred = cross_val_predict(model, X, y, cv=10)\n",
    "    prec_score = precision_score(y, y_train_pred)\n",
    "    recal_score = recall_score(y, y_train_pred)\n",
    "    \n",
    "    print('Model: ', model)\n",
    "    print('Precision Score: ', prec_score)\n",
    "    print('Recall Score', recal_score, '\\n')"
   ]
  },
  {
   "cell_type": "code",
   "execution_count": null,
   "metadata": {
    "collapsed": true
   },
   "outputs": [],
   "source": [
    "param_grid = [{'alpha': [0.1, 1, 10, 100, 1000, 10000, 100000]}]\n",
    "\n",
    "b_nb = BernoulliNB()\n",
    "\n",
    "grid_search = GridSearchCV(b_nb, param_grid, cv=10, scoring='recall')\n",
    "\n",
    "start = time()\n",
    "grid_search.fit(X_train, y_train)\n",
    "\n",
    "print(\"GridSearchCV took %.2f seconds for %d candidate parameter settings.\"\n",
    "      % (time() - start, len(grid_search.cv_results_['params'])))\n",
    "print('best params: ', grid_search.best_params_)\n",
    "print('best estimator: ', grid_search.best_estimator_)"
   ]
  },
  {
   "cell_type": "code",
   "execution_count": null,
   "metadata": {
    "collapsed": true
   },
   "outputs": [],
   "source": [
    "# Nested 10x2 Cross-validation\n",
    "gs = GridSearchCV(b_nb, param_grid, cv=2, scoring = 'recall')\n",
    "\n",
    "scores = cross_val_score(gs, X_train, y_train, scoring='recall', cv=10)\n",
    "print('\\nAverage Accuracy %.3f +/- %.3f' % (np.mean(scores), np.std(scores)))"
   ]
  },
  {
   "cell_type": "code",
   "execution_count": null,
   "metadata": {
    "collapsed": true
   },
   "outputs": [],
   "source": [
    "nb = GaussianNB()\n",
    "nb.fit(X_train, y_train)\n",
    "\n",
    "train_acc = nb.score(X_train, y_train)\n",
    "test_acc = nb.score(X_test, y_test)\n",
    "prec_recal_score(nb, X_train, y_train)\n",
    "\n",
    "print('Train accuracy: ', train_acc)\n",
    "print('Test accuracy: ', test_acc)"
   ]
  },
  {
   "cell_type": "code",
   "execution_count": null,
   "metadata": {
    "collapsed": true
   },
   "outputs": [],
   "source": [
    "b_nb = BernoulliNB(alpha=1000, binarize=0.0, class_prior=None, fit_prior=True)\n",
    "b_nb.fit(X_train, y_train)\n",
    "\n",
    "train_acc = b_nb.score(X_train, y_train)\n",
    "test_acc = b_nb.score(X_test, y_test)\n",
    "prec_recal_score(b_nb, X_train, y_train)\n",
    "\n",
    "print('Train accuracy: ', train_acc)\n",
    "print('Test accuracy: ', test_acc)"
   ]
  },
  {
   "cell_type": "code",
   "execution_count": null,
   "metadata": {
    "collapsed": true
   },
   "outputs": [],
   "source": [
    "import seaborn as sns\n",
    "# cross_val_score returns a list of the scores, which we can visualize\n",
    "# to get a reasonable estimate of our classifier's performance\n",
    "cv_scores = cross_val_score(GaussianNB(), X_train, y_train, cv=10)\n",
    "sns.distplot(cv_scores)\n",
    "plt.title('Average score: {}'.format(np.mean(cv_scores)))"
   ]
  },
  {
   "cell_type": "code",
   "execution_count": null,
   "metadata": {
    "collapsed": true
   },
   "outputs": [],
   "source": [
    "# cross_val_score returns a list of the scores, which we can visualize\n",
    "# to get a reasonable estimate of our classifier's performance\n",
    "cv_scores = cross_val_score(BernoulliNB(alpha=1000, binarize=0.0, class_prior=None, fit_prior=True), X_train, y_train, cv=10)\n",
    "sns.distplot(cv_scores)\n",
    "plt.title('Average score: {}'.format(np.mean(cv_scores)))"
   ]
  },
  {
   "cell_type": "code",
   "execution_count": null,
   "metadata": {
    "collapsed": true
   },
   "outputs": [],
   "source": [
    "# Use the learning curve to check for overfitting\n",
    "from sklearn.model_selection import learning_curve, validation_curve\n",
    "train_sizes, train_scores, test_scores = learning_curve(estimator=BernoulliNB(alpha=1000, binarize=0.0, class_prior=None, fit_prior=True),\n",
    "                                                        X=X_train,\n",
    "                                                        y=y_train,\n",
    "                                                        cv=10,\n",
    "                                                        n_jobs=1)\n",
    "\n",
    "train_mean = np.mean(train_scores, axis=1)\n",
    "train_std = np.std(train_scores, axis=1)\n",
    "test_mean = np.mean(test_scores, axis=1)\n",
    "test_std = np.std(test_scores, axis=1)"
   ]
  },
  {
   "cell_type": "code",
   "execution_count": null,
   "metadata": {
    "collapsed": true
   },
   "outputs": [],
   "source": [
    "plt.plot(train_sizes, train_mean,\n",
    "         color='blue', marker='o',\n",
    "         markersize=5, label='Training Accuracy')\n",
    "\n",
    "plt.fill_between(train_sizes,\n",
    "                 train_mean + train_std,\n",
    "                 train_mean - train_std,\n",
    "                 alpha=0.15, color='blue')\n",
    "\n",
    "plt.plot(train_sizes, test_mean,\n",
    "         color='green', linestyle='--',\n",
    "         marker='s', markersize=5,\n",
    "         label='Validation Accuracy')\n",
    "\n",
    "plt.fill_between(train_sizes,\n",
    "                 test_mean + test_std,\n",
    "                 test_mean - test_std,\n",
    "                 alpha=0.15, color='green')\n",
    "\n",
    "plt.grid(True)\n",
    "plt.xlabel('Number of training samples')\n",
    "plt.ylabel('Accuracy')\n",
    "plt.legend(loc='lower right')\n",
    "plt.ylim([0.812, 0.824])\n",
    "plt.tight_layout()\n",
    "# plt.savefig('../reports/figures/images/learning_curve.png', dpi=300)\n",
    "plt.show()"
   ]
  },
  {
   "cell_type": "code",
   "execution_count": null,
   "metadata": {
    "collapsed": true
   },
   "outputs": [],
   "source": [
    "model = BernoulliNB(alpha=1000, binarize=0.0, class_prior=None, fit_prior=True)\n",
    "cross_val_score(model, X, y, cv=10, scoring = 'recall')\n",
    "y_train_pred = cross_val_predict(model, X, y, cv=10)\n",
    "prec_score = precision_score(y, y_train_pred)\n",
    "recal_score = recall_score(y, y_train_pred)\n",
    "print(prec_score)\n",
    "print(recal_score)"
   ]
  },
  {
   "cell_type": "code",
   "execution_count": null,
   "metadata": {
    "collapsed": true
   },
   "outputs": [],
   "source": [
    "X.head()"
   ]
  },
  {
   "cell_type": "code",
   "execution_count": null,
   "metadata": {
    "collapsed": true
   },
   "outputs": [],
   "source": [
    "confusion_matrix(y, y_train_pred)"
   ]
  },
  {
   "cell_type": "code",
   "execution_count": null,
   "metadata": {
    "collapsed": true
   },
   "outputs": [],
   "source": [
    "confmat = confusion_matrix(y_true=y, y_pred=y_train_pred)\n",
    "print(confmat)\n",
    "\n",
    "# Pretty confusion matrix\n",
    "fig, ax = plt.subplots(figsize=(4, 4))\n",
    "ax.matshow(confmat, cmap=plt.cm.Blues, alpha=0.3)\n",
    "for i in range(confmat.shape[0]):\n",
    "    for j in range(confmat.shape[1]):\n",
    "        ax.text(x=j, y=i, s=confmat[i, j], va='center', ha='center')\n",
    "\n",
    "plt.xlabel('Predicted Label')\n",
    "plt.ylabel('True Label')\n",
    "\n",
    "plt.tight_layout()\n",
    "# plt.savefig('../reports/figures/confusion_matrix.png', dpi=300)\n",
    "plt.show()"
   ]
  }
 ],
 "metadata": {
  "kernelspec": {
   "display_name": "Python 3",
   "language": "python",
   "name": "python3"
  },
  "language_info": {
   "codemirror_mode": {
    "name": "ipython",
    "version": 3
   },
   "file_extension": ".py",
   "mimetype": "text/x-python",
   "name": "python",
   "nbconvert_exporter": "python",
   "pygments_lexer": "ipython3",
   "version": "3.6.1"
  }
 },
 "nbformat": 4,
 "nbformat_minor": 2
}
